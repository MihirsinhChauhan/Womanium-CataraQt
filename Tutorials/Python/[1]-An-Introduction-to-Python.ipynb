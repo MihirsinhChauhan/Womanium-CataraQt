{
 "cells": [
  {
   "cell_type": "markdown",
   "metadata": {},
   "source": [
    "## [1] An Introduction to Python\n",
    "\n",
    "#### What are Jupyter Notebooks? \n",
    "This tutorial is an executable Jupyter Notebook! On scrolling down the file, you will notice structures knows as *cells*. Each cell may contain *Code* or written descriptions, *Markdowns*. Executing the cells allows the user to run the code and view the produced results within the Jupyter Notebook itself. Given its convenient and compact nature, Jupyter is a powerful tool used in Scientific Computing & Data Analysis. \n",
    "\n",
    "#### Running the cells \n",
    "Here are some tips for first time users:\n",
    "* Each cell can be executed by using the **Run** button in the toolbar at the top, or by using keyboard shortcuts. \n",
    "* The shortcut `Shift + Enter` runs the current cell and creates a new cell below it, if no other cell already exists there. \n",
    "* The shortcut `Ctrl + Enter` runs the current cell without creating any new cells.\n",
    "* Try downloading running this Jupyter Notebook on your system to get the hang of it!\n",
    "\n",
    "> **Additional Resources :** To learn more about setting up and running Jupyter Notebooks on your system, you can refer to this [tutorial](https://www.youtube.com/watch?v=5pf0_bpNbkw&t=933s). If you want to learn more about Markdown cells and how to customize them, you can learn the syntax here : https://learnxinyminutes.com/docs/markdown/"
   ]
  },
  {
   "cell_type": "markdown",
   "metadata": {},
   "source": [
    "### Arithmetic Operators in Python \n",
    "These operators are used with numeric values to perform mathematical operations:\n",
    "\n",
    "| Operator   | Description       | Example     | Result    |\n",
    "|------------|-------------------|-------------|-----------|\n",
    "| `+`        | Addition          | `5 + 2`     | `7`       |\n",
    "| `-`        | Subtraction       | `5 - 2`     | `3`       |\n",
    "| `*`        | Multiplication    | `5 * 2`     | `10`      |\n",
    "| `/`        | Division          | `5 / 2`     | `2.5..`   |\n",
    "| `//`       | Floor Division    | `5 // 2`    | `2`       |    \n",
    "| `%`        | Modulus/Remainder | `5 % 2`     | `1`       |\n",
    "| `**`       | Exponent          | `5 ** 2`    | `25`      |\n",
    "\n",
    "Run the code cells below to perform the calculations and view the result. Try experimenting with the code by changing the numbers and operators. "
   ]
  },
  {
   "cell_type": "code",
   "execution_count": 1,
   "metadata": {},
   "outputs": [
    {
     "data": {
      "text/plain": [
       "4"
      ]
     },
     "execution_count": 1,
     "metadata": {},
     "output_type": "execute_result"
    }
   ],
   "source": [
    "100 % 6"
   ]
  },
  {
   "cell_type": "code",
   "execution_count": 2,
   "metadata": {},
   "outputs": [
    {
     "data": {
      "text/plain": [
       "-270.0"
      ]
     },
     "execution_count": 2,
     "metadata": {},
     "output_type": "execute_result"
    }
   ],
   "source": [
    "22.5 * -12"
   ]
  },
  {
   "cell_type": "code",
   "execution_count": 3,
   "metadata": {},
   "outputs": [
    {
     "data": {
      "text/plain": [
       "4.285714285714286"
      ]
     },
     "execution_count": 3,
     "metadata": {},
     "output_type": "execute_result"
    }
   ],
   "source": [
    "30 / 7"
   ]
  },
  {
   "cell_type": "markdown",
   "metadata": {},
   "source": [
    "Very much like other programming languages, the operators in Python follow an order of precedence while performing calculations. Following mathematical conventions, division (`/`) and multiplication (`*`) take precendence over addition (`+`) and subtraction (`-`). In order to specify the order in which you would like the operations to be performed, you can use parentheses `(` and `)`."
   ]
  },
  {
   "cell_type": "code",
   "execution_count": 4,
   "metadata": {},
   "outputs": [
    {
     "data": {
      "text/plain": [
       "0.375"
      ]
     },
     "execution_count": 4,
     "metadata": {},
     "output_type": "execute_result"
    }
   ],
   "source": [
    "((3 - 1) / (2 ** 4)) * 3"
   ]
  },
  {
   "cell_type": "markdown",
   "metadata": {},
   "source": [
    "### Conditional / Comparison Operators in Python \n",
    "These operators are used to compare two values:\n",
    "\n",
    "| Operator   | Description              | Example      | Result    |\n",
    "|------------|--------------------------|--------------|-----------|\n",
    "| `==`       | Equal to                 | `5 == 2`     | `False`   |\n",
    "| `!=`       | Not Equal to             | `5 != 2`     | `True`    |\n",
    "| `>`        | Greater than             | `5 > 2`      | `True`    |\n",
    "| `<`        | Less than                | `5 < 2`      | `False`   |\n",
    "| `>=`       | Greater than or equal to | `5 >= 2`     | `True`    |    \n",
    "| `<=`       | Less than or equal to    | `5 <= 2`     | `False`   |\n",
    "\n",
    "Comparison Operators result in a boolean value of `True` or `False`. \n",
    "\n",
    "Run the code cells below to perform the calculations and view the result. Try experimenting with the code by changing the numbers and operators. "
   ]
  },
  {
   "cell_type": "code",
   "execution_count": 5,
   "metadata": {},
   "outputs": [],
   "source": [
    "# Define sample numeric variables\n",
    "num_1 = 7\n",
    "num_2 = 9"
   ]
  },
  {
   "cell_type": "code",
   "execution_count": 6,
   "metadata": {},
   "outputs": [
    {
     "data": {
      "text/plain": [
       "False"
      ]
     },
     "execution_count": 6,
     "metadata": {},
     "output_type": "execute_result"
    }
   ],
   "source": [
    "# Equality check\n",
    "num_1 == num_2"
   ]
  },
  {
   "cell_type": "code",
   "execution_count": 7,
   "metadata": {},
   "outputs": [
    {
     "data": {
      "text/plain": [
       "True"
      ]
     },
     "execution_count": 7,
     "metadata": {},
     "output_type": "execute_result"
    }
   ],
   "source": [
    "# Greater than or equal check \n",
    "num_2 >= num_1"
   ]
  },
  {
   "cell_type": "markdown",
   "metadata": {},
   "source": [
    "### Logical Operators in Python \n",
    "These operators work on boolean values (`True` & `False`), to generate boolean results. `and` and `or` operate on 2 operands, whereas `not` operates on a single operand:\n",
    "\n",
    "| Operator   | Description                                                      |\n",
    "|------------|------------------------------------------------------------------|\n",
    "| `and`      | Returns `True` only if both operands are `True`                  |\n",
    "| `or`       | Returns `True` if atleast one of operands is `True`              |\n",
    "| `not`      | Negates the result: `False` if operand is `True` and vice versa  |\n",
    "\n",
    "Run the code cells below to perform the calculations and view the result. Try experimenting with the code by changing the numbers and operators. "
   ]
  },
  {
   "cell_type": "code",
   "execution_count": 8,
   "metadata": {},
   "outputs": [],
   "source": [
    "# Define sample numeric variables\n",
    "num_1 = 7\n",
    "num_2 = 9"
   ]
  },
  {
   "cell_type": "code",
   "execution_count": 9,
   "metadata": {},
   "outputs": [
    {
     "data": {
      "text/plain": [
       "False"
      ]
     },
     "execution_count": 9,
     "metadata": {},
     "output_type": "execute_result"
    }
   ],
   "source": [
    "(num_1 > 8) and (num_2 <= 4)"
   ]
  },
  {
   "cell_type": "code",
   "execution_count": 10,
   "metadata": {},
   "outputs": [
    {
     "data": {
      "text/plain": [
       "True"
      ]
     },
     "execution_count": 10,
     "metadata": {},
     "output_type": "execute_result"
    }
   ],
   "source": [
    "(num_2 < 0) or True"
   ]
  },
  {
   "cell_type": "markdown",
   "metadata": {},
   "source": [
    "**Note:** Python ignores comments and blank lines during execution. Comments are inserted for human readability and give a brief description of what the code does. Comments can be inline (after a code statement), on a separate line, or span multiple lines. Inline and single-line comments start with `#`, whereas multi-line comments begin and end with `\"\"\"`. "
   ]
  },
  {
   "cell_type": "markdown",
   "metadata": {},
   "source": [
    "### Problem Solving\n",
    "\n",
    "Let's put everything together by solving the following word problem:\n",
    "\n",
    "> **Problem Statement:** Mr. Smith buys pencils at $250 per hundred pencils and sells each at $1.75. If he sells 500 pencils, find out his loss.  "
   ]
  },
  {
   "cell_type": "code",
   "execution_count": 11,
   "metadata": {},
   "outputs": [],
   "source": [
    "#### DEFINE VARIABLES\n",
    "# Cost of hundred pencils\n",
    "cost_per_hundred = 250 \n",
    "\n",
    "# Selling price per pencil \n",
    "selling_price = 1.75 \n",
    "\n",
    "# Number of pencils sold \n",
    "number_of_pencils = 500 "
   ]
  },
  {
   "cell_type": "code",
   "execution_count": 12,
   "metadata": {},
   "outputs": [],
   "source": [
    "#### PERFORM NECESSARY CALCULATIONS AND PRINT RESULTS\n",
    "# Cost price per pencil \n",
    "cost_price = 250 / 100 \n",
    "\n",
    "# Total cost price\n",
    "total_cost_price = cost_price * number_of_pencils \n",
    "\n",
    "# Total selling price \n",
    "total_selling_price = selling_price * number_of_pencils \n",
    "\n",
    "# Total loss \n",
    "total_loss = total_cost_price - total_selling_price"
   ]
  },
  {
   "cell_type": "code",
   "execution_count": 13,
   "metadata": {},
   "outputs": [
    {
     "name": "stdout",
     "output_type": "stream",
     "text": [
      "Mr. Smith makes a total loss of $ 375.0\n"
     ]
    }
   ],
   "source": [
    "#### PRINTING THE RESULT \n",
    "print(\"Mr. Smith makes a total loss of $\", total_loss)"
   ]
  },
  {
   "cell_type": "markdown",
   "metadata": {},
   "source": [
    "### Additional Resources\n",
    "\n",
    "[1] Python Operators : https://www.w3schools.com/python/python_operators.asp\n",
    "\n",
    "[2] Practise Problems on Math in Python : https://www.w3resource.com/python-exercises/math/"
   ]
  }
 ],
 "metadata": {
  "kernelspec": {
   "display_name": "Python 3",
   "language": "python",
   "name": "python3"
  },
  "language_info": {
   "codemirror_mode": {
    "name": "ipython",
    "version": 3
   },
   "file_extension": ".py",
   "mimetype": "text/x-python",
   "name": "python",
   "nbconvert_exporter": "python",
   "pygments_lexer": "ipython3",
   "version": "3.11.2"
  },
  "orig_nbformat": 4
 },
 "nbformat": 4,
 "nbformat_minor": 2
}
