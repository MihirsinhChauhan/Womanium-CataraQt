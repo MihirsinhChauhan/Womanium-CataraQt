{
 "cells": [
  {
   "cell_type": "markdown",
   "metadata": {},
   "source": [
    "## [4] Functions"
   ]
  },
  {
   "cell_type": "markdown",
   "metadata": {},
   "source": [
    "### 1. Function Syntax and Call\n",
    "\n",
    "Functions are blocks of reusable code. They can be *called* multiple times, which saves the user from writing the same code many times. A function usually takes in some inputs or *arguments*, performs operators and then prints the result or *returns* the output as a value. `print()`, `len()` etc., are examples of built-in functions in Python.\n",
    "\n",
    "The syntax of a customizable function can be described as :\n",
    "```\n",
    "def function_name(arg1, arg2...):\n",
    "    // Body of the function \n",
    "    statement1\n",
    "    statement2\n",
    "    ...\n",
    "\n",
    "    // Optional : Return a value \n",
    "    return result\n",
    "```\n",
    "\n",
    "Here, the `def` keyword is used to define a new function. "
   ]
  },
  {
   "cell_type": "code",
   "execution_count": 1,
   "metadata": {},
   "outputs": [],
   "source": [
    "# Define a hello_world function\n",
    "def hello_world():\n",
    "    print('Hello World!')"
   ]
  },
  {
   "cell_type": "markdown",
   "metadata": {},
   "source": [
    "The function may be *called* or *invoked* using : `function_name()`.\n",
    "\n",
    "The parentheses `()` are essential while calling a function. In case the function takes in input variables, the arguments are passed into the function via the parentheses during the *function call*."
   ]
  },
  {
   "cell_type": "code",
   "execution_count": 2,
   "metadata": {},
   "outputs": [
    {
     "name": "stdout",
     "output_type": "stream",
     "text": [
      "Hello World!\n"
     ]
    }
   ],
   "source": [
    "# Call the hello_world function\n",
    "hello_world()"
   ]
  },
  {
   "cell_type": "markdown",
   "metadata": {},
   "source": [
    "### 2. Function Arguments\n",
    "\n",
    "Functions accept zero or more values as *inputs*. These are also known as *arguments* or *parameters*. This method helps us customize and write flexible functions that meet our needs. "
   ]
  },
  {
   "cell_type": "code",
   "execution_count": 3,
   "metadata": {},
   "outputs": [],
   "source": [
    "## EXAMPLE : Define a function to print multiples of 3 \n",
    "def multiples_of_3(nums):\n",
    "    for num in nums:\n",
    "        if num % 3 == 0:\n",
    "            print(num)"
   ]
  },
  {
   "cell_type": "code",
   "execution_count": 4,
   "metadata": {},
   "outputs": [
    {
     "name": "stdout",
     "output_type": "stream",
     "text": [
      "6\n",
      "9\n",
      "12\n",
      "78\n",
      "24\n"
     ]
    }
   ],
   "source": [
    "nums_list = [2, 4, 6, 9, 12, 78, 32, 24]\n",
    "\n",
    "# Call the function \n",
    "multiples_of_3(nums_list)"
   ]
  },
  {
   "cell_type": "markdown",
   "metadata": {},
   "source": [
    "**Note:** The variables defined inside the function are *local* to the function and cannot be used outside of the function. The *scope* of a variable describes the region within the code where that particular variable exists and can be used. Variables can be *local* or *global*. You can learn more about it [here](https://www.w3schools.com/python/python_variables_global.asp)."
   ]
  },
  {
   "cell_type": "markdown",
   "metadata": {},
   "source": [
    "### 3. Return values\n",
    "\n",
    "We can return the resultant values of a function by simply using the `return` statement. "
   ]
  },
  {
   "cell_type": "code",
   "execution_count": 5,
   "metadata": {},
   "outputs": [],
   "source": [
    "## EXAMPLE : Define a function return the multiples of 3 in a list\n",
    "def multiples_of_3(nums):\n",
    "    result_list = []\n",
    "    for num in nums:\n",
    "        if num % 3 == 0:\n",
    "            result_list.append(num)\n",
    "    \n",
    "    return result_list"
   ]
  },
  {
   "cell_type": "code",
   "execution_count": 6,
   "metadata": {},
   "outputs": [
    {
     "name": "stdout",
     "output_type": "stream",
     "text": [
      "[6, 9, 12, 78, 24]\n"
     ]
    }
   ],
   "source": [
    "nums_list = [2, 4, 6, 9, 12, 78, 32, 24]\n",
    "\n",
    "# Call the function and store the result\n",
    "result = multiples_of_3(nums_list)\n",
    "print(result)"
   ]
  },
  {
   "cell_type": "markdown",
   "metadata": {},
   "source": [
    "### 4. Optional Arguments \n",
    "\n",
    "*Optional arguments* are preset values which may be optionally passed as arguments during the function call. Optional arguments must be written at the end, following all the default arguments. "
   ]
  },
  {
   "cell_type": "code",
   "execution_count": 7,
   "metadata": {},
   "outputs": [],
   "source": [
    "## EXAMPLE : Function to calculate the simple interest \n",
    "def si(amount, time, rate=0.5):      # Here, \"rate\" is the optional argument\n",
    "    interest = (amount * rate * time) / 100 \n",
    "    return interest "
   ]
  },
  {
   "cell_type": "code",
   "execution_count": 8,
   "metadata": {},
   "outputs": [
    {
     "data": {
      "text/plain": [
       "160.0"
      ]
     },
     "execution_count": 8,
     "metadata": {},
     "output_type": "execute_result"
    }
   ],
   "source": [
    "interest1 = si(4000, 8)\n",
    "interest1"
   ]
  },
  {
   "cell_type": "code",
   "execution_count": 9,
   "metadata": {},
   "outputs": [
    {
     "data": {
      "text/plain": [
       "80.0"
      ]
     },
     "execution_count": 9,
     "metadata": {},
     "output_type": "execute_result"
    }
   ],
   "source": [
    "interest2 = si(2000, 5, 0.8)\n",
    "interest2"
   ]
  },
  {
   "cell_type": "markdown",
   "metadata": {},
   "source": [
    "You can also call a function by naming the arguments while passing their values as follows:"
   ]
  },
  {
   "cell_type": "code",
   "execution_count": 10,
   "metadata": {},
   "outputs": [
    {
     "data": {
      "text/plain": [
       "157.5"
      ]
     },
     "execution_count": 10,
     "metadata": {},
     "output_type": "execute_result"
    }
   ],
   "source": [
    "interest3 = si(amount=3500, time=6, rate=0.75)\n",
    "interest3"
   ]
  },
  {
   "cell_type": "markdown",
   "metadata": {},
   "source": [
    "### Additional Resources \n",
    "\n",
    "[1] Python Functions : https://www.w3schools.com/python/python_functions.asp\n",
    "\n",
    "[2] Python Lambda : https://www.w3schools.com/python/python_lambda.asp"
   ]
  }
 ],
 "metadata": {
  "kernelspec": {
   "display_name": "Python 3",
   "language": "python",
   "name": "python3"
  },
  "language_info": {
   "codemirror_mode": {
    "name": "ipython",
    "version": 3
   },
   "file_extension": ".py",
   "mimetype": "text/x-python",
   "name": "python",
   "nbconvert_exporter": "python",
   "pygments_lexer": "ipython3",
   "version": "3.11.2"
  },
  "orig_nbformat": 4
 },
 "nbformat": 4,
 "nbformat_minor": 2
}
