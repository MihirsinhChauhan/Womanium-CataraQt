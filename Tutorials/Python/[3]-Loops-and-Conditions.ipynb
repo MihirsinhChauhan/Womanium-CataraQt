{
 "cells": [
  {
   "cell_type": "markdown",
   "metadata": {},
   "source": [
    "## [3] Loops and Conditions"
   ]
  },
  {
   "cell_type": "markdown",
   "metadata": {},
   "source": [
    "### 1. Conditional Statements \n",
    "\n",
    "We can view conditional statements as signs at cross-roads which help us take calculated decisions. The concept of making decisions on which statements to execute based on true or false conditions, is called *branching*. \n",
    "\n",
    "In Python, conditional statements are of 3 basic types : `if`, `else` and `elif`."
   ]
  },
  {
   "cell_type": "markdown",
   "metadata": {},
   "source": [
    "#### 1.1 `if` Statement\n",
    "\n",
    "The syntax of using the `if` statement is:\n",
    "\n",
    "```\n",
    "if (condition):\n",
    "    statements_to_execute\n",
    "```\n",
    "\n",
    "The `condition` specified may be a value or expression having a boolean result. Here, if `condition` evaluates to `True`, then the statements within the `if` *block* are executed. \n",
    "\n",
    "In Python, *indentations* or spaces are used to structure the code. The spaces before `statements_to_execute` tell us that the expressions to be executed occur within the `if` statement. \n",
    "\n",
    "You can indent your code using the `Tab` key. Pressing this key once results in 4 spaces. "
   ]
  },
  {
   "cell_type": "code",
   "execution_count": 1,
   "metadata": {},
   "outputs": [
    {
     "name": "stdout",
     "output_type": "stream",
     "text": [
      "X is greater than 3\n",
      "New value of X :  12\n"
     ]
    }
   ],
   "source": [
    "## EXAMPLE : Check if a number 'x' is greater than 3\n",
    "## If 'x' is greater than 3, we will add 5 to it \n",
    "\n",
    "x = 7 \n",
    "\n",
    "if x > 3:\n",
    "    print(\"X is greater than 3\")\n",
    "    x += 5\n",
    "    print(\"New value of X : \", x)"
   ]
  },
  {
   "cell_type": "markdown",
   "metadata": {},
   "source": [
    "#### 1.2 `else` Statement\n",
    "\n",
    "The syntax of using the `else` statement is:\n",
    "\n",
    "```\n",
    "if (condition):\n",
    "    statement1\n",
    "else:\n",
    "    statement2\n",
    "```\n",
    "\n",
    "The `else` statement allows us to make more use of the `if` condition. Here, if the `condition` evaluates to `True`, then `statement1` is executed. If it evaluates to `False`, then `statement2` is executed. \n",
    "\n",
    "**Note:** Remember to indent your code. "
   ]
  },
  {
   "cell_type": "code",
   "execution_count": 2,
   "metadata": {},
   "outputs": [
    {
     "name": "stdout",
     "output_type": "stream",
     "text": [
      "New value of x:  12\n"
     ]
    }
   ],
   "source": [
    "## EXAMPLE : Check if a number 'x' is greater than 3\n",
    "## If 'x' is greater than 3, we will add 5 to it\n",
    "## If 'x' is less than 3, we will subtract 5 from it \n",
    "\n",
    "x = 7 \n",
    "\n",
    "if x > 3:\n",
    "    x += 5\n",
    "    print('New value of x: ', x)\n",
    "else:\n",
    "    x -= 5\n",
    "    print('New value of x: ', x)"
   ]
  },
  {
   "cell_type": "markdown",
   "metadata": {},
   "source": [
    "#### 1.3 `elif` Statement\n",
    "\n",
    "The syntax of using the `elif` statement is:\n",
    "\n",
    "```\n",
    "if (condition1):\n",
    "    statement1\n",
    "elif (condition2):\n",
    "    statement2\n",
    "```\n",
    "\n",
    "The `elif` statement allows the user to create a chain of conditional `if` blocks. Each condition is evaluated in order. If `condition1` is `True`, `statement1` is executed within the `if` block, and none of the other conditions or statements are executed. If it is `False`, `condition2` is evaluated and the process continues. \n",
    "\n",
    "The block corresponding to the first condition that evaluates to `True` is the only block that is executed in the `elif` statements. In a series of `if` statements, every condition is evaluated and the corresponding block is executed.   \n",
    "\n",
    "**Note:** Remember to indent your code. "
   ]
  },
  {
   "cell_type": "code",
   "execution_count": 3,
   "metadata": {},
   "outputs": [
    {
     "name": "stdout",
     "output_type": "stream",
     "text": [
      "21 is divisible by 3\n"
     ]
    }
   ],
   "source": [
    "## EXAMPLE : Check whether a number is divisible by 3, 5 or 7 \n",
    "num = 21\n",
    "\n",
    "if num % 3 == 0:\n",
    "    print(f'{num} is divisible by 3')\n",
    "elif num % 5 == 0:\n",
    "    print(f'{num} is divisible by 5')\n",
    "elif num % 7 == 0:\n",
    "    print(f'{num} is divisible by 7')"
   ]
  },
  {
   "cell_type": "markdown",
   "metadata": {},
   "source": [
    "#### 1.4 Using `if`, `else` and `elif` together"
   ]
  },
  {
   "cell_type": "code",
   "execution_count": 4,
   "metadata": {},
   "outputs": [
    {
     "name": "stdout",
     "output_type": "stream",
     "text": [
      "None of these\n"
     ]
    }
   ],
   "source": [
    "## EXAMPLE : Check whether a number is divisible by 3, 5 or 7\n",
    "## If the number doesn't satisfy any of the cases, return \"None of these\"\n",
    "num = 26\n",
    "\n",
    "if num % 3 == 0:\n",
    "    print(f'{num} is divisible by 3')\n",
    "elif num % 5 == 0:\n",
    "    print(f'{num} is divisible by 5')\n",
    "elif num % 7 == 0:\n",
    "    print(f'{num} is divisible by 7')\n",
    "else:\n",
    "    print('None of these')"
   ]
  },
  {
   "cell_type": "markdown",
   "metadata": {},
   "source": [
    "The `condition` evaluated in conditional statements can be any value, of any data type. This is internally converted to a boolean value resulting in either a `True` or `False` case. \n",
    "\n",
    "* Values like `0`, `''`, `{}`, `[]` - evaluate to `False`\n",
    "* All other non-zero, non-empty values evaluate to `True`"
   ]
  },
  {
   "cell_type": "code",
   "execution_count": 5,
   "metadata": {},
   "outputs": [
    {
     "name": "stdout",
     "output_type": "stream",
     "text": [
      "False value\n"
     ]
    }
   ],
   "source": [
    "if None:\n",
    "    print('True value')\n",
    "else:\n",
    "    print('False value')"
   ]
  },
  {
   "cell_type": "markdown",
   "metadata": {},
   "source": [
    "Conditional statements can also be `nested` - placed inside of each other. Here is an example:"
   ]
  },
  {
   "cell_type": "code",
   "execution_count": 6,
   "metadata": {},
   "outputs": [
    {
     "name": "stdout",
     "output_type": "stream",
     "text": [
      "15 is divisible by 3 and 5\n"
     ]
    }
   ],
   "source": [
    "## EXAMPLE : Check whether a number is divisible by 3 and 5 or 7\n",
    "## If the number doesn't satisfy any of the cases, return \"None of these\"\n",
    "num = 15\n",
    "\n",
    "if num % 3 == 0:\n",
    "    if num % 5 == 0:\n",
    "        print(f'{num} is divisible by 3 and 5')\n",
    "    elif num % 7 == 0:\n",
    "        print(f'{num} is divisible by 3 and 7')\n",
    "else:\n",
    "    print(\"None of these\")"
   ]
  },
  {
   "cell_type": "markdown",
   "metadata": {},
   "source": [
    "#### 1.5 Shorthand `if`\n",
    "\n",
    "In Python, there exists a shorthand method of writing `if` statements in a single line. This is sometimes referred to as the *ternary operator*. Here is the syntax of what this looks like:\n",
    "\n",
    "```\n",
    "x = statement1 if (condition) else statement2\n",
    "```\n",
    "\n",
    "This statement has the same effect as the following block of code:\n",
    "```\n",
    "if (condition):\n",
    "    x = statement1\n",
    "else:\n",
    "    x = statement2\n",
    "```"
   ]
  },
  {
   "cell_type": "code",
   "execution_count": 7,
   "metadata": {},
   "outputs": [
    {
     "name": "stdout",
     "output_type": "stream",
     "text": [
      "odd\n"
     ]
    }
   ],
   "source": [
    "## EXAMPLE : To store if a number is \"even\" or \"odd\"\n",
    "num = 5\n",
    "\n",
    "x = \"even\" if (num % 2 == 0) else \"odd\"\n",
    "print(x)"
   ]
  },
  {
   "cell_type": "markdown",
   "metadata": {},
   "source": [
    "#### 1.6 `pass` Statement \n",
    "\n",
    "There must be at least one statement inside a `if` and `elif` block. They cannot be empty. The `pass` statement simply does nothing and is used to avoid the system from flagging an error. "
   ]
  },
  {
   "cell_type": "code",
   "execution_count": 8,
   "metadata": {},
   "outputs": [
    {
     "name": "stdout",
     "output_type": "stream",
     "text": [
      "25 is only divisible by 5, not divisible by 3\n"
     ]
    }
   ],
   "source": [
    "## EXAMPLE : Check whether a number is divisible by both 3 and 5 \n",
    "num = 25\n",
    "\n",
    "if num % 3 == 0:\n",
    "    pass                # Do nothing\n",
    "elif num % 5 == 0:\n",
    "    print(f'{num} is only divisible by 5, not divisible by 3')"
   ]
  },
  {
   "cell_type": "markdown",
   "metadata": {},
   "source": [
    "### 2. Loops"
   ]
  },
  {
   "cell_type": "markdown",
   "metadata": {},
   "source": [
    "*Looping* is the process of running one or more statements multiple times. Each count of a loop is referred to as an *iteration*. There are two methods of using loops in Python : the `for` loop and the `while` loop."
   ]
  },
  {
   "cell_type": "markdown",
   "metadata": {},
   "source": [
    "#### 2.1 `for` loops\n",
    "\n",
    "The `for` loop is used for iterating or looping over sequences of data like lists, dictionaries, tuples and strings. Often, `for` loops are used to iterate over a *range* of integers. They follow the following syntax:\n",
    "\n",
    "```\n",
    "for x in sequence:\n",
    "    statement1\n",
    "    statement2\n",
    "    ...\n",
    "```\n",
    "\n",
    "Here, for each element `x` in `sequence`, the statements within the `for` loop are executed. "
   ]
  },
  {
   "cell_type": "code",
   "execution_count": 9,
   "metadata": {},
   "outputs": [
    {
     "name": "stdout",
     "output_type": "stream",
     "text": [
      "red\n",
      "green\n",
      "blue\n",
      "orange\n",
      "yellow\n"
     ]
    }
   ],
   "source": [
    "## EXAMPLE : Print all elements of a list\n",
    "colors = ['red', 'green', 'blue', 'orange', 'yellow']\n",
    "\n",
    "for color in colors:\n",
    "    print(color)"
   ]
  },
  {
   "cell_type": "code",
   "execution_count": 10,
   "metadata": {},
   "outputs": [
    {
     "name": "stdout",
     "output_type": "stream",
     "text": [
      "b\n",
      "l\n",
      "u\n",
      "e\n"
     ]
    }
   ],
   "source": [
    "## EXAMPLE : Loop over a string\n",
    "for char in 'blue':\n",
    "    print(char)"
   ]
  },
  {
   "cell_type": "markdown",
   "metadata": {},
   "source": [
    "**Note:** Iteration occurs over the *keys* of a dictionary when used in a `for` loop. "
   ]
  },
  {
   "cell_type": "code",
   "execution_count": 11,
   "metadata": {},
   "outputs": [],
   "source": [
    "dict_1 = {'name' : 'John Doe', 'occupation' : 'Author'}"
   ]
  },
  {
   "cell_type": "code",
   "execution_count": 12,
   "metadata": {},
   "outputs": [
    {
     "name": "stdout",
     "output_type": "stream",
     "text": [
      "Key: name, Value: John Doe\n",
      "Key: occupation, Value: Author\n"
     ]
    }
   ],
   "source": [
    "## EXAMPLE : Loop over a dictionary \n",
    "for key in dict_1:\n",
    "    print(f'Key: {key}, Value: {dict_1[key]}')"
   ]
  },
  {
   "cell_type": "code",
   "execution_count": 13,
   "metadata": {},
   "outputs": [
    {
     "name": "stdout",
     "output_type": "stream",
     "text": [
      "John Doe\n",
      "Author\n"
     ]
    }
   ],
   "source": [
    "## EXAMPLE : Iterate over the values of a dictionary\n",
    "for val in dict_1.values():\n",
    "    print(val)"
   ]
  },
  {
   "cell_type": "code",
   "execution_count": 14,
   "metadata": {},
   "outputs": [
    {
     "name": "stdout",
     "output_type": "stream",
     "text": [
      "('name', 'John Doe')\n",
      "('occupation', 'Author')\n"
     ]
    }
   ],
   "source": [
    "## EXAMPLE : Iterate over the key-value pairs of a dictionary \n",
    "## Note : Each pair is returned as a tuple\n",
    "for pair in dict_1.items():\n",
    "    print(pair)"
   ]
  },
  {
   "cell_type": "code",
   "execution_count": 15,
   "metadata": {},
   "outputs": [
    {
     "name": "stdout",
     "output_type": "stream",
     "text": [
      "Key: name, Value: John Doe\n",
      "Key: occupation, Value: Author\n"
     ]
    }
   ],
   "source": [
    "## EXAMPLE : Iterate over the key-value pairs of a dictionary \n",
    "## Here, we extract the keys and values separately \n",
    "for key, val in dict_1.items():\n",
    "    print(f'Key: {key}, Value: {val}')"
   ]
  },
  {
   "cell_type": "markdown",
   "metadata": {},
   "source": [
    "#### 2.2 `range` \n",
    "\n",
    "The `range` function creates a sequence of integers. Often, this is used to iterate over a `for` loop. The syntax of using `range` is as follows:\n",
    "\n",
    "```\n",
    "range(start, end, step)\n",
    "```\n",
    "\n",
    "If only `start` is mentioned, `range` creates a sequence of numbers from `0` to `start-1`. If both `start` and `end` are mentioned, `range` creates a sequence of numbers from `start` to `end-1`. \n",
    "\n",
    "**Note:** Range values always end at `max_value-1`. \n",
    "\n",
    "`step` is an optional argument to the `range` function and denotes the increments for the numbers between `start` and `end`."
   ]
  },
  {
   "cell_type": "code",
   "execution_count": 16,
   "metadata": {},
   "outputs": [
    {
     "name": "stdout",
     "output_type": "stream",
     "text": [
      "0\n",
      "1\n",
      "2\n"
     ]
    }
   ],
   "source": [
    "## EXAMPLE : range() with only \"start\"\n",
    "for x in range(3):\n",
    "    print(x)"
   ]
  },
  {
   "cell_type": "code",
   "execution_count": 17,
   "metadata": {},
   "outputs": [
    {
     "name": "stdout",
     "output_type": "stream",
     "text": [
      "2\n",
      "3\n",
      "4\n",
      "5\n"
     ]
    }
   ],
   "source": [
    "## EXAMPLE : range() with \"start\" and \"end\"\n",
    "for x in range(2, 6):\n",
    "    print(x)"
   ]
  },
  {
   "cell_type": "code",
   "execution_count": 18,
   "metadata": {},
   "outputs": [
    {
     "name": "stdout",
     "output_type": "stream",
     "text": [
      "2\n",
      "4\n",
      "6\n",
      "8\n"
     ]
    }
   ],
   "source": [
    "## EXAMPLE : range() with \"start\", \"end\" and \"step\"\n",
    "for x in range(2, 10, 2):\n",
    "    print(x)"
   ]
  },
  {
   "cell_type": "markdown",
   "metadata": {},
   "source": [
    "#### 2.2 `while` loops\n",
    "\n",
    "The `while` loop consists of a block of statements that are executed repeatedly as long as some `condition` is satisfied. Generally, `while` loops consist of a variable within the loop that is constantly updated to maintain continuity until the `condition` eventually returns `False` . It follows the following syntax:\n",
    "\n",
    "```\n",
    "while (condition):\n",
    "    statement1\n",
    "    statement2\n",
    "    ...\n",
    "```"
   ]
  },
  {
   "cell_type": "code",
   "execution_count": 19,
   "metadata": {},
   "outputs": [
    {
     "name": "stdout",
     "output_type": "stream",
     "text": [
      "*\n",
      "**\n",
      "***\n",
      "****\n",
      "*****\n"
     ]
    }
   ],
   "source": [
    "## EXAMPLE : Print a star pattern\n",
    "star_line = '*'\n",
    "\n",
    "while len(star_line) < 6:\n",
    "    print(star_line)\n",
    "    star_line += '*'"
   ]
  },
  {
   "cell_type": "markdown",
   "metadata": {},
   "source": [
    "#### 2.3 `break`, `continue` and `pass` statements  "
   ]
  },
  {
   "cell_type": "markdown",
   "metadata": {},
   "source": [
    "The `break` statement is used to immediately stop the ongoing execution of a loop and *break* out of it."
   ]
  },
  {
   "cell_type": "code",
   "execution_count": 20,
   "metadata": {},
   "outputs": [
    {
     "name": "stdout",
     "output_type": "stream",
     "text": [
      "Number Reached\n",
      "Last value of i: 3\n"
     ]
    }
   ],
   "source": [
    "## EXAMPLE : \"break\" using while loop\n",
    "## We break out of the loop if i = 3\n",
    "i = 1 \n",
    "\n",
    "while i < 5:\n",
    "    if i == 3:\n",
    "        print(\"Number Reached\")\n",
    "        break\n",
    "    i += 1\n",
    "\n",
    "print(\"Last value of i:\", i)"
   ]
  },
  {
   "cell_type": "markdown",
   "metadata": {},
   "source": [
    "The `continue` statement skips the current iteration and moves to the top of the loop, executing the next iteration. "
   ]
  },
  {
   "cell_type": "code",
   "execution_count": 21,
   "metadata": {},
   "outputs": [
    {
     "name": "stdout",
     "output_type": "stream",
     "text": [
      "Monday: Today is a good day to go on a walk!\n",
      "Tuesday: Today is a rainy day. Please stay indoors.\n",
      "Wednesday: Today is a good day to go on a walk!\n",
      "Thursday: Today is a good day to go on a walk!\n",
      "Friday: Today is a rainy day. Please stay indoors.\n",
      "Saturday: Today is a good day to go on a walk!\n",
      "Sunday: Today is a good day to go on a walk!\n"
     ]
    }
   ],
   "source": [
    "## EXAMPLE : \"continue\" using for loop \n",
    "## Here, we print the data according to which Tuesday and Friday are rainy days\n",
    "week = ['Monday', 'Tuesday', 'Wednesday', 'Thursday', 'Friday', 'Saturday', 'Sunday']\n",
    "\n",
    "for day in week:\n",
    "    if (day == 'Tuesday') or (day == 'Friday'):\n",
    "        print(f\"{day}: Today is a rainy day. Please stay indoors.\")\n",
    "        continue\n",
    "    print(f'{day}: Today is a good day to go on a walk!')"
   ]
  },
  {
   "cell_type": "markdown",
   "metadata": {},
   "source": [
    "Like conditional `if` statements, `for` loops cannot be empty. We make use of the `pass` statement to avoid errors. This is used in case no statements are to be executed inside the loop.  "
   ]
  },
  {
   "cell_type": "code",
   "execution_count": 22,
   "metadata": {},
   "outputs": [],
   "source": [
    "for day in week:\n",
    "    pass"
   ]
  },
  {
   "cell_type": "markdown",
   "metadata": {},
   "source": [
    "#### 2.4 Nested Loops\n",
    "\n",
    "Loops can also be nested within each other. This lets us add more dimension to our code. This concept is mainly used when dealing with lists, dictionaries and structures like matrices. "
   ]
  },
  {
   "cell_type": "code",
   "execution_count": 23,
   "metadata": {},
   "outputs": [
    {
     "name": "stdout",
     "output_type": "stream",
     "text": [
      "name : John Doe\n",
      "age : 42\n",
      " \n",
      "name : Jane Doe\n",
      "age : 37\n",
      " \n"
     ]
    }
   ],
   "source": [
    "## EXAMPLE : Print the data corresponding to dictionaries \n",
    "\n",
    "people = [{'name': 'John Doe', 'age': 42}, {'name': 'Jane Doe', 'age': 37}]\n",
    "\n",
    "for person in people:\n",
    "    for key in person:\n",
    "        print(key, \":\", person[key])\n",
    "    print(\" \")"
   ]
  },
  {
   "cell_type": "markdown",
   "metadata": {},
   "source": [
    "### Additional Resources \n",
    "\n",
    "[1] Python Conditional Statements : https://www.w3schools.com/python/python_conditions.asp\n",
    "\n",
    "[2] Python `for` loops : https://www.w3schools.com/python/python_for_loops.asp\n",
    "\n",
    "[3] Python `while` Loops : https://www.w3schools.com/python/python_while_loops.asp"
   ]
  }
 ],
 "metadata": {
  "kernelspec": {
   "display_name": "Python 3",
   "language": "python",
   "name": "python3"
  },
  "language_info": {
   "codemirror_mode": {
    "name": "ipython",
    "version": 3
   },
   "file_extension": ".py",
   "mimetype": "text/x-python",
   "name": "python",
   "nbconvert_exporter": "python",
   "pygments_lexer": "ipython3",
   "version": "3.11.2"
  },
  "orig_nbformat": 4
 },
 "nbformat": 4,
 "nbformat_minor": 2
}
