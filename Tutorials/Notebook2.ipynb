{
 "cells": [
  {
   "cell_type": "markdown",
   "id": "0d3ccab3",
   "metadata": {},
   "source": [
    "# Quantum Computing and Basic Linear Algebra"
   ]
  },
  {
   "cell_type": "markdown",
   "id": "8e935b79",
   "metadata": {},
   "source": [
    "In this tutorial we'll learn:\n",
    "- What is a vector\n",
    "- Amplitude and Probability\n",
    "- Basis\n",
    "- Unitary"
   ]
  },
  {
   "cell_type": "markdown",
   "id": "1fb6cd07",
   "metadata": {},
   "source": [
    "In quantum computing, we use the terms vectors and matrices very often. Vectors are the\n",
    "ones that represent the state of a Quantum system, and matrices represent operations that\n",
    "we perform on our system."
   ]
  },
  {
   "cell_type": "markdown",
   "id": "492ba3b1",
   "metadata": {},
   "source": [
    "\n",
    "What is a vector? A vector is actually a list of numbers, so here the vectors are different\n",
    "from any normal list. we have set it as a list of numbers, which is not a list like our old\n",
    "list. Vectors are following the two rules here, which are addition and multiplication,\n",
    "which makes our vector different from a normal list."
   ]
  },
  {
   "cell_type": "markdown",
   "id": "3b524856",
   "metadata": {},
   "source": [
    "In quantum computers, we talk more about amplitude and probability. Here the\n",
    "probability is in between one and minus one, and they are complex number probabilities.\n",
    "In order to find the probability, we must square the amplitude, and then we will get the\n",
    "probability of some state.\n",
    "In quantum computing, vectors that represent the state of our quantum systems are called\n",
    "the state vector."
   ]
  },
  {
   "cell_type": "markdown",
   "id": "9a94c813",
   "metadata": {},
   "source": [
    "\n",
    "                      |Ψ> = a00 |00> + a01 |01> + a10 |10> + a11 |11>"
   ]
  },
  {
   "cell_type": "markdown",
   "id": "c854f5bc",
   "metadata": {},
   "source": [
    "What is the basis?\n",
    "\n",
    "\n",
    "When we say any vector is a combination of the above vectors, we say these vectors form\n",
    "the basis. These are computational bases. We can also say they are z-based.\n",
    "There are other bases like the Hadamard basis, which are the |+> and |-> states."
   ]
  },
  {
   "cell_type": "markdown",
   "id": "b2728c74",
   "metadata": {},
   "source": [
    "Until now, we have understood that the quantum state is represented by a vector. So\n",
    "the question is, does every vector represent a quantum state?\n",
    "\n",
    "\n",
    "The answer to this question is that not every vector represents a quantum state. \n",
    "\n",
    "If any state wants to be a valid quantum state, then the summation of all the terms in a vector,\n",
    "the probability summation, should be equal to 1, ie.the length (norm) of a vector should\n",
    "be 1.\n"
   ]
  },
  {
   "cell_type": "markdown",
   "id": "0635899d",
   "metadata": {},
   "source": [
    "Unitary in Quantum computing means that by performing the matrices backward, we get \n",
    "the Quantum State back, i.e., the initial state back. Probability operations applied in a\n",
    "sequence undo each other.\n",
    "\n",
    "In Quantum computing, we are using probability amplitude, like probability. Probability\n",
    "amplitude has a phase; phase here refers to an angle. Phases exist because of the\n",
    "interference effect they produce."
   ]
  },
  {
   "cell_type": "markdown",
   "id": "1accfe04",
   "metadata": {},
   "source": [
    "# Reference:\n",
    "Qiskit"
   ]
  }
 ],
 "metadata": {
  "kernelspec": {
   "display_name": "Python 3 (ipykernel)",
   "language": "python",
   "name": "python3"
  },
  "language_info": {
   "codemirror_mode": {
    "name": "ipython",
    "version": 3
   },
   "file_extension": ".py",
   "mimetype": "text/x-python",
   "name": "python",
   "nbconvert_exporter": "python",
   "pygments_lexer": "ipython3",
   "version": "3.11.4"
  }
 },
 "nbformat": 4,
 "nbformat_minor": 5
}
