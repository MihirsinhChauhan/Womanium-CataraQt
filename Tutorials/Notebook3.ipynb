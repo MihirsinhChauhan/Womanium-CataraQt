{
 "cells": [
  {
   "cell_type": "markdown",
   "id": "e3c97261",
   "metadata": {},
   "source": [
    "# Different types of Qubits"
   ]
  },
  {
   "cell_type": "markdown",
   "id": "5ed00dcf",
   "metadata": {},
   "source": [
    "\n",
    "Now we know Qubit is a mathematical object Which can be in a Superposition of two states or a\n",
    "linear combination of states. We can represent Qubit on a Bloch sphere. For the representation\n",
    "of more than one qubit we use qsphere.\n",
    "\n",
    "\n",
    "There are different types of Qubits we'll see one by one briefly.\n",
    "\n",
    "\n",
    "\n"
   ]
  },
  {
   "cell_type": "markdown",
   "id": "12963efa",
   "metadata": {},
   "source": [
    "- Superconducting:\n",
    "\n",
    "Superconducting Qubit is one of the most famous types of Qubit. We call it transmon. There are\n",
    "three types of superconducting qubits\n",
    "- Flux\n",
    "- Charge\n",
    "- Phase"
   ]
  },
  {
   "cell_type": "markdown",
   "id": "95d31548",
   "metadata": {},
   "source": [
    "We use superconductors to create a qubit. Here the main components are Josephson Junction\n",
    "and Cooper pairs.\n",
    "\n",
    "Qubits are made by using a superconducting electrical circuit.\n",
    "\n",
    "Superconducting qubits are fast, meaning we can perform faster computation than the other qubits. \n",
    "\n",
    "If you are curious and want to know what Cooper pair and Josephson Junction is, click the link below: \n",
    "\n",
    "https://www.quantumgrad.com/article/454"
   ]
  },
  {
   "cell_type": "markdown",
   "id": "de32d0a2",
   "metadata": {},
   "source": [
    "- Photonics:\n",
    "\n",
    "Photonic Qubits are created by using a photon( packets of energy) which we call quanta. Common approach is Linear Optical Quantum Computing or Linear Optics Quantum Computation (LOQC). \n",
    "\n",
    "This approch relies on a qubit based on single photon. Here mirror, beam splitter and phase shifter manipulate the photon. Single photon detectors are used to detect and read the result.\n",
    "\n",
    "Xanadu is taking the next step in a photonic quantum coomputing by relying on a so called \"Squeezed States\". \n",
    "\n",
    "Multiple photons in a superposition form a Squeezed State. Squeezed states are taking advantage of Heisenberg's Uncertainty Principle.\n",
    "\n",
    "Here quantum state is represented by a horizontal or vertical polarization. Photons allow us multiple degrees of freedom.\n"
   ]
  },
  {
   "cell_type": "markdown",
   "id": "d521514a",
   "metadata": {},
   "source": [
    "- Trapped ions:\n",
    "\n",
    "Atom becomes an ion when it loss or gain an electrons, thus acquire an electric charge.\n",
    "\n",
    "Here we trap atom or ion by a laser to form a qubit. In a trapped ion quantum computing ions are trapped using a magnetic field and hold in a place. Here the outermost electron is used as a qubit as it demonstrate the superposition. As we can isolate trapped ions from the environment, they can be used for precision measurement.\n",
    "\n",
    "Here our information is encoded in an electronic energy levels. \n",
    "\n",
    "There are significant advantages of a trapped ions.\n",
    "\n",
    "- Long coherence time\n",
    "- Stability\n",
    "- Operatable at room temperature\n"
   ]
  },
  {
   "cell_type": "markdown",
   "id": "63119b1a",
   "metadata": {},
   "source": [
    "- Neutral atoms:\n",
    "\n",
    "In this, array of an atom is suspended by using a laser beams (tightly focused) in an ultra high vaccum. Here laser, which are tightly focused is called tweezers. These laser beams manipulate the arrays of a single neutral atoms. \n",
    "\n",
    "Neutral atoms sometimes referred as \"cold atoms\".\n",
    "\n",
    "By applying a laser to an atoms, atoms can be put into a highly excited state called rydberg state. \n",
    "\n",
    "Neutral atoms are less sensitive to the stray magnetic field.\n",
    "\n"
   ]
  },
  {
   "cell_type": "markdown",
   "id": "bef6dedc",
   "metadata": {},
   "source": [
    "Topological:\n",
    "\n",
    "In a topological Quantum Computing we use Anyons. Anyons will be the qubit here. \n",
    "\n",
    "Anyons are their own antiparticles. Operations on them are called braiding. \n",
    "\n",
    "Anyons are neither boson nor fermion, but in between them.\n",
    "\n",
    "Anyons are non-abelian and due to that local noise and perturbations will have no impact on the system. In order to impact, perturbation and noise should be large enough.\n",
    "\n",
    "To make a masurement, we need to fuse a particles. fusion will result in an annihilation of particles. \n",
    "\n",
    "Computation process involves:\n",
    "- Creation of Anyons\n",
    "- Braiding\n",
    "- Measurement"
   ]
  }
 ],
 "metadata": {
  "kernelspec": {
   "display_name": "Python 3 (ipykernel)",
   "language": "python",
   "name": "python3"
  },
  "language_info": {
   "codemirror_mode": {
    "name": "ipython",
    "version": 3
   },
   "file_extension": ".py",
   "mimetype": "text/x-python",
   "name": "python",
   "nbconvert_exporter": "python",
   "pygments_lexer": "ipython3",
   "version": "3.11.4"
  }
 },
 "nbformat": 4,
 "nbformat_minor": 5
}
